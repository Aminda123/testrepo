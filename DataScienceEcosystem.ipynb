{
 "cells": [
  {
   "cell_type": "markdown",
   "id": "1c5e7c25-aaf4-4d99-b17d-6485d4ce018e",
   "metadata": {},
   "source": [
    "# Data Science Tools and Ecosystem"
   ]
  },
  {
   "cell_type": "markdown",
   "id": "211cbab8-d115-46df-849d-0a0a7233d528",
   "metadata": {},
   "source": [
    "In this notebook, Data Science Tools and Ecosystem are summarized"
   ]
  },
  {
   "cell_type": "markdown",
   "id": "0e217e83-2eda-4494-979a-43a6dcafe4e3",
   "metadata": {},
   "source": [
    "__Objectives:__\n",
    "* List of the popular languages that Data Scientists use.\n",
    "* List of the commonly used libraries used by Data Scientists.\n",
    "* Data science tools.\n",
    "* Arithmetic expression\n"
   ]
  },
  {
   "cell_type": "markdown",
   "id": "fb63772c-8418-4c41-9a1f-25bbc410584b",
   "metadata": {},
   "source": [
    "Some of the popular languages that Data Scientists use are: \n",
    "1. Python\n",
    "2. R\n",
    "3. SQL\n",
    "           "
   ]
  },
  {
   "cell_type": "markdown",
   "id": "00a10378-1942-4f59-a220-33e1ce266506",
   "metadata": {},
   "source": [
    "Some of the commonly used libraries used by Data Scientists include:\n",
    "1. panda\n",
    "2. matplotlib\n",
    "3. numpy"
   ]
  },
  {
   "cell_type": "markdown",
   "id": "b6fa7c5b-0ae8-4dd3-a0a5-63ed139eba3e",
   "metadata": {},
   "source": [
    "| Data Science Tools |\n",
    "----------------------\n",
    "| RStudio |\n",
    "| Apache Spark |      \n",
    "| TensorFlow |\n"
   ]
  },
  {
   "cell_type": "markdown",
   "id": "1bb90333-b01f-41d3-941b-10a8aa72d950",
   "metadata": {},
   "source": [
    "### Below are a few examples of evaluating arithmetic expressions in Python."
   ]
  },
  {
   "cell_type": "code",
   "execution_count": 3,
   "id": "f9437fbb-d480-404d-a25f-304d08195bb9",
   "metadata": {},
   "outputs": [
    {
     "data": {
      "text/plain": [
       "17"
      ]
     },
     "execution_count": 3,
     "metadata": {},
     "output_type": "execute_result"
    }
   ],
   "source": [
    "#This a simple arithmetic expression to mutiply then add integers\n",
    "(3*4)+5"
   ]
  },
  {
   "cell_type": "code",
   "execution_count": 2,
   "id": "10f219f8-5bce-4bdd-95e8-3dd35d9d9625",
   "metadata": {},
   "outputs": [
    {
     "name": "stdout",
     "output_type": "stream",
     "text": [
      "03:20\n"
     ]
    }
   ],
   "source": [
    "#This will convert 200 minutes to hours by diving by 60.\n",
    "minutes = 200\n",
    "print(\"%02d:%02d\" % (divmod(minutes, 60)))\n"
   ]
  },
  {
   "cell_type": "markdown",
   "id": "41971bdb-9e69-4a8b-acf3-63bc65d87e8c",
   "metadata": {},
   "source": [
    "## Author\n",
    "    Aminda\n"
   ]
  },
  {
   "cell_type": "code",
   "execution_count": null,
   "id": "4a4c45c0-b873-4f49-be98-d3c48f566624",
   "metadata": {},
   "outputs": [],
   "source": []
  }
 ],
 "metadata": {
  "kernelspec": {
   "display_name": "Python",
   "language": "python",
   "name": "conda-env-python-py"
  },
  "language_info": {
   "codemirror_mode": {
    "name": "ipython",
    "version": 3
   },
   "file_extension": ".py",
   "mimetype": "text/x-python",
   "name": "python",
   "nbconvert_exporter": "python",
   "pygments_lexer": "ipython3",
   "version": "3.7.12"
  }
 },
 "nbformat": 4,
 "nbformat_minor": 5
}
